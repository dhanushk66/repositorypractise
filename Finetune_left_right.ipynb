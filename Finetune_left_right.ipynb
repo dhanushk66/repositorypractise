{
 "cells": [
  {
   "cell_type": "code",
   "execution_count": 2,
   "id": "f0019c65",
   "metadata": {},
   "outputs": [],
   "source": [
    "from sentence_transformers import SentenceTransformer\n",
    "import numpy as np\n",
    "import pandas as pd\n",
    "from sklearn.model_selection import train_test_split\n",
    "from sklearn.metrics import accuracy_score,precision_score,recall_score,f1_score\n",
    "import torch\n",
    "from transformers import Trainer,TrainingArguments\n",
    "from transformers import BertTokenizer,BertForSequenceClassification\n",
    "np.set_printoptions(suppress=True)\n",
    "import tensorflow as tf"
   ]
  },
  {
   "cell_type": "code",
   "execution_count": 3,
   "id": "77ed6b71",
   "metadata": {},
   "outputs": [],
   "source": [
    "extreme_left=pd.read_csv(\"/Users/dhanushkikkisetti/Documents/Research Assistant/ExtremeLeft.csv\")\n",
    "extreme_right=pd.read_csv(\"/Users/dhanushkikkisetti/Documents/Research Assistant/ExtremeRight.csv\") \n",
    "extreme_left['label']=0\n",
    "extreme_right['label']=1\n",
    "extreme_left=extreme_left.loc[:,['text','label']]\n",
    "extreme_right=extreme_right.loc[:,['text','label']]\n",
    "extreme_right=extreme_right.sample(2014)\n",
    "left_right=pd.concat([extreme_left,extreme_right])\n",
    "text_data=left_right['text'].to_list()\n",
    "label_data=left_right['label'].to_list()"
   ]
  },
  {
   "cell_type": "code",
   "execution_count": 5,
   "id": "dcc981fc",
   "metadata": {},
   "outputs": [],
   "source": [
    "x_train,x_val,y_train,y_val=train_test_split(text_data,label_data,test_size=0.2,stratify=label_data)\n",
    "#For testing the model\n",
    "#x_train,x_test,y_train,y_test=train_test_split(text_data,label_data,test_size=0.02,stratify=label_data)"
   ]
  },
  {
   "cell_type": "code",
   "execution_count": 14,
   "id": "c2c941de",
   "metadata": {},
   "outputs": [
    {
     "name": "stderr",
     "output_type": "stream",
     "text": [
      "Some weights of the model checkpoint at bert-base-uncased were not used when initializing BertForSequenceClassification: ['cls.predictions.transform.dense.weight', 'cls.seq_relationship.weight', 'cls.predictions.transform.LayerNorm.bias', 'cls.predictions.bias', 'cls.seq_relationship.bias', 'cls.predictions.transform.LayerNorm.weight', 'cls.predictions.transform.dense.bias', 'cls.predictions.decoder.weight']\n",
      "- This IS expected if you are initializing BertForSequenceClassification from the checkpoint of a model trained on another task or with another architecture (e.g. initializing a BertForSequenceClassification model from a BertForPreTraining model).\n",
      "- This IS NOT expected if you are initializing BertForSequenceClassification from the checkpoint of a model that you expect to be exactly identical (initializing a BertForSequenceClassification model from a BertForSequenceClassification model).\n",
      "Some weights of BertForSequenceClassification were not initialized from the model checkpoint at bert-base-uncased and are newly initialized: ['classifier.bias', 'classifier.weight']\n",
      "You should probably TRAIN this model on a down-stream task to be able to use it for predictions and inference.\n"
     ]
    }
   ],
   "source": [
    "tokenizer=BertTokenizer.from_pretrained(\"bert-base-uncased\")\n",
    "model=BertForSequenceClassification.from_pretrained(\"bert-base-uncased\",num_labels=2)"
   ]
  },
  {
   "cell_type": "code",
   "execution_count": 7,
   "id": "383099a5",
   "metadata": {},
   "outputs": [
    {
     "data": {
      "text/plain": [
       "dict_keys(['input_ids', 'token_type_ids', 'attention_mask'])"
      ]
     },
     "execution_count": 7,
     "metadata": {},
     "output_type": "execute_result"
    }
   ],
   "source": [
    "x_train_tokenize=tokenizer(x_train,padding=True,truncation=True,max_length=512)\n",
    "x_val_tokenize=tokenizer(x_val,padding=True,truncation=True,max_length=512)\n",
    "x_train_tokenize.keys()"
   ]
  },
  {
   "cell_type": "markdown",
   "id": "3c7a5a31",
   "metadata": {},
   "source": [
    "## Method1 for fine tuning"
   ]
  },
  {
   "cell_type": "code",
   "execution_count": 8,
   "id": "d4810922",
   "metadata": {},
   "outputs": [],
   "source": [
    "class Dataset(torch.utils.data.Dataset):\n",
    "    def __init__(self, encodings, labels=None):\n",
    "        self.encodings = encodings\n",
    "        self.labels = labels\n",
    "\n",
    "    def __getitem__(self, idx):\n",
    "        item = {key: torch.tensor(val[idx]) for key, val in self.encodings.items()}\n",
    "        if self.labels:\n",
    "            item['labels'] = torch.tensor(self.labels[idx])\n",
    "        return item\n",
    "\n",
    "    def __len__(self):\n",
    "        return len(self.labels)\n",
    "\n"
   ]
  },
  {
   "cell_type": "code",
   "execution_count": 9,
   "id": "9d595c94",
   "metadata": {},
   "outputs": [],
   "source": [
    "X_train_dataset=Dataset(x_train_tokenize,y_train)\n",
    "X_val_dataset=Dataset(x_val_tokenize,y_val)"
   ]
  },
  {
   "cell_type": "code",
   "execution_count": 10,
   "id": "88c9479a",
   "metadata": {},
   "outputs": [],
   "source": [
    "def compute_metrics(p):\n",
    "    print(type(p))\n",
    "    predected_label,label=p\n",
    "    predected_label=np.argmax(predected_label,axis=1)\n",
    "    \n",
    "    accuracy=accuracy_score(y_pred=predected_label,y_true=label)\n",
    "    recall=recall_score(y_pred=predected_label,y_true=label)\n",
    "    precission=precision_score(y_pred=predected_label,y_true=label)\n",
    "    f1score=f1_score(y_pred=predected_label,y_true=label)\n",
    "    \n",
    "    return {\"Accuracy Score \":accuracy,\"Recall Score \":recall,\"Precission Score\" :precission,\"F1 Score \":f1score} "
   ]
  },
  {
   "cell_type": "code",
   "execution_count": 16,
   "id": "30fd8fad",
   "metadata": {},
   "outputs": [
    {
     "name": "stderr",
     "output_type": "stream",
     "text": [
      "PyTorch: setting up devices\n",
      "The default value for the training argument `--report_to` will change in v5 (from all installed integrations to none). In v5, you will need to use `--report_to all` to get the same behavior as now. You should start updating your code and make this info disappear :-).\n"
     ]
    }
   ],
   "source": [
    "args=TrainingArguments(\n",
    "    output_dir=\"output\",\n",
    "    num_train_epochs=5,\n",
    "    per_device_train_batch_size=8\n",
    ")\n",
    "\n",
    "trainer=Trainer(\n",
    "    model=model,\n",
    "    args=args,\n",
    "    train_dataset=X_train_dataset,\n",
    "    eval_dataset=X_val_dataset,\n",
    "    compute_metrics=compute_metrics\n",
    ")"
   ]
  },
  {
   "cell_type": "code",
   "execution_count": 17,
   "id": "59d859a2",
   "metadata": {},
   "outputs": [
    {
     "name": "stderr",
     "output_type": "stream",
     "text": [
      "/Users/dhanushkikkisetti/miniforge3/lib/python3.10/site-packages/transformers/optimization.py:306: FutureWarning: This implementation of AdamW is deprecated and will be removed in a future version. Use the PyTorch implementation torch.optim.AdamW instead, or set `no_deprecation_warning=True` to disable this warning\n",
      "  warnings.warn(\n",
      "***** Running training *****\n",
      "  Num examples = 3222\n",
      "  Num Epochs = 5\n",
      "  Instantaneous batch size per device = 8\n",
      "  Total train batch size (w. parallel, distributed & accumulation) = 8\n",
      "  Gradient Accumulation steps = 1\n",
      "  Total optimization steps = 2015\n",
      "  Number of trainable parameters = 109483778\n"
     ]
    },
    {
     "data": {
      "text/html": [
       "\n",
       "    <div>\n",
       "      \n",
       "      <progress value='2015' max='2015' style='width:300px; height:20px; vertical-align: middle;'></progress>\n",
       "      [2015/2015 5:29:19, Epoch 5/5]\n",
       "    </div>\n",
       "    <table border=\"1\" class=\"dataframe\">\n",
       "  <thead>\n",
       " <tr style=\"text-align: left;\">\n",
       "      <th>Step</th>\n",
       "      <th>Training Loss</th>\n",
       "    </tr>\n",
       "  </thead>\n",
       "  <tbody>\n",
       "    <tr>\n",
       "      <td>500</td>\n",
       "      <td>0.130100</td>\n",
       "    </tr>\n",
       "    <tr>\n",
       "      <td>1000</td>\n",
       "      <td>0.056700</td>\n",
       "    </tr>\n",
       "    <tr>\n",
       "      <td>1500</td>\n",
       "      <td>0.049500</td>\n",
       "    </tr>\n",
       "    <tr>\n",
       "      <td>2000</td>\n",
       "      <td>0.040200</td>\n",
       "    </tr>\n",
       "  </tbody>\n",
       "</table><p>"
      ],
      "text/plain": [
       "<IPython.core.display.HTML object>"
      ]
     },
     "metadata": {},
     "output_type": "display_data"
    },
    {
     "name": "stderr",
     "output_type": "stream",
     "text": [
      "Saving model checkpoint to output/checkpoint-500\n",
      "Configuration saved in output/checkpoint-500/config.json\n",
      "Model weights saved in output/checkpoint-500/pytorch_model.bin\n",
      "Saving model checkpoint to output/checkpoint-1000\n",
      "Configuration saved in output/checkpoint-1000/config.json\n",
      "Model weights saved in output/checkpoint-1000/pytorch_model.bin\n",
      "Saving model checkpoint to output/checkpoint-1500\n",
      "Configuration saved in output/checkpoint-1500/config.json\n",
      "Model weights saved in output/checkpoint-1500/pytorch_model.bin\n",
      "Saving model checkpoint to output/checkpoint-2000\n",
      "Configuration saved in output/checkpoint-2000/config.json\n",
      "Model weights saved in output/checkpoint-2000/pytorch_model.bin\n",
      "\n",
      "\n",
      "Training completed. Do not forget to share your model on huggingface.co/models =)\n",
      "\n",
      "\n"
     ]
    },
    {
     "data": {
      "text/plain": [
       "TrainOutput(global_step=2015, training_loss=0.06898180125073226, metrics={'train_runtime': 19766.8138, 'train_samples_per_second': 0.815, 'train_steps_per_second': 0.102, 'total_flos': 4238719101849600.0, 'train_loss': 0.06898180125073226, 'epoch': 5.0})"
      ]
     },
     "execution_count": 17,
     "metadata": {},
     "output_type": "execute_result"
    }
   ],
   "source": [
    "trainer.train()"
   ]
  },
  {
   "cell_type": "code",
   "execution_count": 18,
   "id": "a35fa86f",
   "metadata": {},
   "outputs": [
    {
     "name": "stderr",
     "output_type": "stream",
     "text": [
      "***** Running Evaluation *****\n",
      "  Num examples = 806\n",
      "  Batch size = 8\n"
     ]
    },
    {
     "data": {
      "text/html": [
       "\n",
       "    <div>\n",
       "      \n",
       "      <progress value='101' max='101' style='width:300px; height:20px; vertical-align: middle;'></progress>\n",
       "      [101/101 02:39]\n",
       "    </div>\n",
       "    "
      ],
      "text/plain": [
       "<IPython.core.display.HTML object>"
      ]
     },
     "metadata": {},
     "output_type": "display_data"
    },
    {
     "name": "stdout",
     "output_type": "stream",
     "text": [
      "<class 'transformers.trainer_utils.EvalPrediction'>\n"
     ]
    },
    {
     "data": {
      "text/plain": [
       "{'eval_loss': 0.03735582157969475,\n",
       " 'eval_Accuracy Score ': 0.988833746898263,\n",
       " 'eval_Recall Score ': 0.9826302729528535,\n",
       " 'eval_Precission Score': 0.9949748743718593,\n",
       " 'eval_F1 Score ': 0.9887640449438202,\n",
       " 'eval_runtime': 160.7339,\n",
       " 'eval_samples_per_second': 5.014,\n",
       " 'eval_steps_per_second': 0.628,\n",
       " 'epoch': 5.0}"
      ]
     },
     "execution_count": 18,
     "metadata": {},
     "output_type": "execute_result"
    }
   ],
   "source": [
    "trainer.evaluate()"
   ]
  },
  {
   "cell_type": "code",
   "execution_count": 8,
   "id": "fe803101",
   "metadata": {},
   "outputs": [],
   "source": [
    "source='/Users/dhanushkikkisetti/Documents/Research Assistant/right_left_finetunemodel'\n",
    "#trainer.save_model(source)\n"
   ]
  },
  {
   "cell_type": "code",
   "execution_count": 9,
   "id": "3a6700e9",
   "metadata": {},
   "outputs": [],
   "source": [
    "#loaded_tokenizer=BertTokenizer.from_pretrained(source)\n",
    "loaded_model=BertForSequenceClassification.from_pretrained(source)"
   ]
  },
  {
   "cell_type": "code",
   "execution_count": 10,
   "id": "d3c3f9cd",
   "metadata": {},
   "outputs": [],
   "source": [
    "x_test_token=tokenizer(x_test,padding=True,truncation=True,max_length=512,return_tensors='pt')\n",
    "output=loaded_model(**x_test_token)\n"
   ]
  },
  {
   "cell_type": "code",
   "execution_count": 23,
   "id": "7149daed",
   "metadata": {},
   "outputs": [
    {
     "data": {
      "text/plain": [
       "0.9876543209876543"
      ]
     },
     "execution_count": 23,
     "metadata": {},
     "output_type": "execute_result"
    }
   ],
   "source": [
    "prediction_label=output.logits.detach().numpy()\n",
    "prediction_label=np.argmax(prediction_label,axis=1)\n",
    "accuracy=accuracy_score(y_pred=prediction_label,y_true=y_test)\n",
    "accuracy"
   ]
  }
 ],
 "metadata": {
  "kernelspec": {
   "display_name": "Python 3 (ipykernel)",
   "language": "python",
   "name": "python3"
  },
  "language_info": {
   "codemirror_mode": {
    "name": "ipython",
    "version": 3
   },
   "file_extension": ".py",
   "mimetype": "text/x-python",
   "name": "python",
   "nbconvert_exporter": "python",
   "pygments_lexer": "ipython3",
   "version": "3.10.6"
  }
 },
 "nbformat": 4,
 "nbformat_minor": 5
}
